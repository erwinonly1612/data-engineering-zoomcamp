{
 "cells": [
  {
   "cell_type": "code",
   "execution_count": 1,
   "id": "b29b6352",
   "metadata": {},
   "outputs": [],
   "source": [
    "import pyspark\n",
    "from pyspark.sql import SparkSession"
   ]
  },
  {
   "cell_type": "code",
   "execution_count": 2,
   "id": "a2d92dfd",
   "metadata": {},
   "outputs": [
    {
     "name": "stderr",
     "output_type": "stream",
     "text": [
      "22/03/01 23:59:37 WARN Utils: Your hostname, ZPS713 resolves to a loopback address: 127.0.1.1; using 172.26.238.3 instead (on interface eth0)\n",
      "22/03/01 23:59:37 WARN Utils: Set SPARK_LOCAL_IP if you need to bind to another address\n",
      "WARNING: An illegal reflective access operation has occurred\n",
      "WARNING: Illegal reflective access by org.apache.spark.unsafe.Platform (file:/root/spark/spark-3.0.3-bin-hadoop3.2/jars/spark-unsafe_2.12-3.0.3.jar) to constructor java.nio.DirectByteBuffer(long,int)\n",
      "WARNING: Please consider reporting this to the maintainers of org.apache.spark.unsafe.Platform\n",
      "WARNING: Use --illegal-access=warn to enable warnings of further illegal reflective access operations\n",
      "WARNING: All illegal access operations will be denied in a future release\n",
      "22/03/01 23:59:39 WARN NativeCodeLoader: Unable to load native-hadoop library for your platform... using builtin-java classes where applicable\n",
      "Using Spark's default log4j profile: org/apache/spark/log4j-defaults.properties\n",
      "Setting default log level to \"WARN\".\n",
      "To adjust logging level use sc.setLogLevel(newLevel). For SparkR, use setLogLevel(newLevel).\n"
     ]
    }
   ],
   "source": [
    "spark = SparkSession.builder\\\n",
    "        .master(\"local[*]\")\\\n",
    "        .appName('test')\\\n",
    "        .getOrCreate()"
   ]
  },
  {
   "cell_type": "code",
   "execution_count": 4,
   "id": "7e8e257a",
   "metadata": {},
   "outputs": [
    {
     "data": {
      "text/plain": [
       "'3.0.3'"
      ]
     },
     "execution_count": 4,
     "metadata": {},
     "output_type": "execute_result"
    }
   ],
   "source": [
    "spark.version"
   ]
  },
  {
   "cell_type": "code",
   "execution_count": 7,
   "id": "772b5382",
   "metadata": {},
   "outputs": [],
   "source": [
    "from pyspark.sql import types"
   ]
  },
  {
   "cell_type": "code",
   "execution_count": 8,
   "id": "e280b8ed",
   "metadata": {},
   "outputs": [],
   "source": [
    "schema = types.StructType([\n",
    "    types.StructField('hvfhs_license_num',types.StringType(),True),\n",
    "    types.StructField('dispatching_base_num',types.StringType(),True),\n",
    "    types.StructField('pickup_datetime',types.TimestampType(),True),\n",
    "    types.StructField('dropoff_datetime',types.TimestampType(),True),\n",
    "    types.StructField('PULocationID',types.IntegerType(),True),\n",
    "    types.StructField('DOLocationID',types.IntegerType(),True),\n",
    "    types.StructField('SR_Flag',types.StringType(),True)\n",
    "])"
   ]
  },
  {
   "cell_type": "code",
   "execution_count": 9,
   "id": "744f44fc",
   "metadata": {},
   "outputs": [],
   "source": [
    "df = spark.read\\\n",
    "    .option(\"header\",\"true\")\\\n",
    "    .schema(schema)\\\n",
    "    .csv('fhvhv_tripdata_2021-02.csv')"
   ]
  },
  {
   "cell_type": "code",
   "execution_count": 17,
   "id": "e7502575",
   "metadata": {},
   "outputs": [],
   "source": [
    "df = df.repartition(24)"
   ]
  },
  {
   "cell_type": "code",
   "execution_count": 18,
   "id": "d1d064f0",
   "metadata": {},
   "outputs": [
    {
     "name": "stderr",
     "output_type": "stream",
     "text": [
      "                                                                                \r"
     ]
    }
   ],
   "source": [
    "df.write.parquet('fhvhv/2021/02', mode=\"overwrite\")"
   ]
  },
  {
   "cell_type": "code",
   "execution_count": 40,
   "id": "5c6d1cc7",
   "metadata": {},
   "outputs": [
    {
     "name": "stderr",
     "output_type": "stream",
     "text": [
      "[Stage 29:===============>  (5 + 1) / 6][Stage 32:>                 (0 + 3) / 6]\r"
     ]
    }
   ],
   "source": [
    "fhvhv_df = spark.read.parquet('fhvhv/2021/02/*')"
   ]
  },
  {
   "cell_type": "code",
   "execution_count": 41,
   "id": "974c1e98",
   "metadata": {},
   "outputs": [
    {
     "name": "stdout",
     "output_type": "stream",
     "text": [
      "root\n",
      " |-- hvfhs_license_num: string (nullable = true)\n",
      " |-- dispatching_base_num: string (nullable = true)\n",
      " |-- pickup_datetime: timestamp (nullable = true)\n",
      " |-- dropoff_datetime: timestamp (nullable = true)\n",
      " |-- PULocationID: integer (nullable = true)\n",
      " |-- DOLocationID: integer (nullable = true)\n",
      " |-- SR_Flag: string (nullable = true)\n",
      "\n"
     ]
    }
   ],
   "source": [
    "fhvhv_df.printSchema()"
   ]
  },
  {
   "cell_type": "code",
   "execution_count": 20,
   "id": "cf5ae1e4",
   "metadata": {},
   "outputs": [],
   "source": [
    "from pyspark.sql import functions as F"
   ]
  },
  {
   "cell_type": "code",
   "execution_count": 55,
   "id": "3ae00a94",
   "metadata": {},
   "outputs": [],
   "source": [
    "timeFmt = \"yyyy-MM-dd HH:mm:ss\"\n",
    "timeDiff = (F.unix_timestamp('dropoff_datetime', format=timeFmt)\n",
    "            - F.unix_timestamp('pickup_datetime', format=timeFmt))/60\n",
    "fhvhv_df = fhvhv_df.withColumn(\"trip_duration\", timeDiff)"
   ]
  },
  {
   "cell_type": "code",
   "execution_count": 56,
   "id": "27c0af4f",
   "metadata": {},
   "outputs": [],
   "source": [
    "fhvhv_df.registerTempTable('fhvhv_trips_data')"
   ]
  },
  {
   "cell_type": "code",
   "execution_count": 44,
   "id": "e1a206f5",
   "metadata": {},
   "outputs": [
    {
     "name": "stderr",
     "output_type": "stream",
     "text": [
      "[Stage 32:=========>        (3 + 3) / 6][Stage 34:=============>    (3 + 1) / 4]\r"
     ]
    },
    {
     "name": "stdout",
     "output_type": "stream",
     "text": [
      "+--------+\n",
      "|count(1)|\n",
      "+--------+\n",
      "|  367170|\n",
      "+--------+\n",
      "\n"
     ]
    },
    {
     "name": "stderr",
     "output_type": "stream",
     "text": [
      "[Stage 32:=============================>                            (3 + 3) / 6]\r"
     ]
    }
   ],
   "source": [
    "#Question 3: Records on Feb 2021-02-15\n",
    "spark.sql(\"\"\"\n",
    "SELECT\n",
    "    count(1)\n",
    "FROM\n",
    "    fhvhv_trips_data\n",
    "WHERE\n",
    "    date_format(pickup_datetime, 'yyyyMMdd') = '20210215'\n",
    "\"\"\").show()"
   ]
  },
  {
   "cell_type": "code",
   "execution_count": 82,
   "id": "303be22a",
   "metadata": {},
   "outputs": [
    {
     "name": "stderr",
     "output_type": "stream",
     "text": [
      "[Stage 130:>                                                        (0 + 3) / 3]\r"
     ]
    },
    {
     "name": "stdout",
     "output_type": "stream",
     "text": [
      "+----------------------------------------+\n",
      "|date_format(pickup_datetime, yyyy-MM-dd)|\n",
      "+----------------------------------------+\n",
      "|                              2021-02-11|\n",
      "+----------------------------------------+\n",
      "\n"
     ]
    },
    {
     "name": "stderr",
     "output_type": "stream",
     "text": [
      "\r",
      "[Stage 130:===================>                                     (1 + 2) / 3]\r",
      "\r",
      "                                                                                \r"
     ]
    }
   ],
   "source": [
    "#Question 4: Day with the longest trip\n",
    "spark.sql(\"\"\"\n",
    "SELECT date_format(pickup_datetime, 'yyyy-MM-dd')\n",
    "FROM fhvhv_trips_data \n",
    "WHERE trip_duration =\n",
    "    (SELECT\n",
    "        MAX(trip_duration)\n",
    "    FROM\n",
    "        fhvhv_trips_data) \n",
    "\"\"\").show()"
   ]
  },
  {
   "cell_type": "code",
   "execution_count": 81,
   "id": "a3ada2f7",
   "metadata": {},
   "outputs": [
    {
     "name": "stderr",
     "output_type": "stream",
     "text": [
      "                                                                                \r"
     ]
    },
    {
     "name": "stdout",
     "output_type": "stream",
     "text": [
      "+--------------------+\n",
      "|dispatching_base_num|\n",
      "+--------------------+\n",
      "|              B02510|\n",
      "+--------------------+\n",
      "\n"
     ]
    }
   ],
   "source": [
    "#Question 5: Stages for most frequent dispatching_base_num\n",
    "spark.sql(\"\"\"\n",
    "    (SELECT dispatching_base_num,\n",
    "    COUNT(1) as count_dispatch_base_num\n",
    "    FROM fhvhv_trips_data \n",
    "    GROUP BY dispatching_base_num)\n",
    "\"\"\").createOrReplaceTempView(\"count_of_dispatching_base_num\")\n",
    "\n",
    "spark.sql(\"\"\"\n",
    "SELECT dispatching_base_num \n",
    "FROM count_of_dispatching_base_num\n",
    "WHERE count_dispatch_base_num =\n",
    "    (SELECT MAX(count_dispatch_base_num)\n",
    "    FROM count_of_dispatching_base_num)\n",
    "\"\"\").show()"
   ]
  },
  {
   "cell_type": "code",
   "execution_count": 83,
   "id": "e58eb66d",
   "metadata": {},
   "outputs": [
    {
     "name": "stderr",
     "output_type": "stream",
     "text": [
      "                                                                                \r"
     ]
    },
    {
     "name": "stdout",
     "output_type": "stream",
     "text": [
      "+-------------+\n",
      "|location_pair|\n",
      "+-------------+\n",
      "|        76|76|\n",
      "+-------------+\n",
      "\n"
     ]
    }
   ],
   "source": [
    "#Question 6: Most common locations pair\n",
    "spark.sql(\"\"\"\n",
    "    (SELECT concat(PULocationID, '|', DOLocationID) AS location_pair,\n",
    "    COUNT(concat(PULocationID, '|', DOLocationID)) as count_location_pair\n",
    "    FROM fhvhv_trips_data \n",
    "    GROUP BY concat(PULocationID, '|', DOLocationID) )\n",
    "\"\"\").createOrReplaceTempView(\"count_of_location_pair\")\n",
    "\n",
    "spark.sql(\"\"\"\n",
    "    SELECT location_pair \n",
    "    FROM count_of_location_pair \n",
    "    WHERE count_location_pair =\n",
    "    (SELECT MAX(count_location_pair)\n",
    "    FROM count_of_location_pair)\n",
    "\"\"\").show()"
   ]
  }
 ],
 "metadata": {
  "kernelspec": {
   "display_name": "Python 3 (ipykernel)",
   "language": "python",
   "name": "python3"
  },
  "language_info": {
   "codemirror_mode": {
    "name": "ipython",
    "version": 3
   },
   "file_extension": ".py",
   "mimetype": "text/x-python",
   "name": "python",
   "nbconvert_exporter": "python",
   "pygments_lexer": "ipython3",
   "version": "3.8.10"
  }
 },
 "nbformat": 4,
 "nbformat_minor": 5
}
